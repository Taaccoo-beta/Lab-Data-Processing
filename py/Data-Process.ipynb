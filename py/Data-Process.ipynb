{
 "cells": [
  {
   "cell_type": "markdown",
   "metadata": {},
   "source": [
    "## Data Analysis Document\n",
    "Author : PengboHu"
   ]
  },
  {
   "cell_type": "code",
   "execution_count": 95,
   "metadata": {
    "collapsed": true
   },
   "outputs": [],
   "source": [
    "import random\n",
    "import numpy as np\n",
    "import pandas as pd\n",
    "import matplotlib.pyplot as plt\n",
    "import re"
   ]
  },
  {
   "cell_type": "markdown",
   "metadata": {
    "collapsed": false
   },
   "source": [
    "## Data clear\n"
   ]
  },
  {
   "cell_type": "code",
   "execution_count": 4,
   "metadata": {
    "collapsed": true
   },
   "outputs": [],
   "source": [
    "#read all files\n",
    "\n",
    "import os\n",
    "from os.path import join\n",
    "\n",
    "AllFile = []\n",
    "def main() :\n",
    "    dest = \"h:\\data\\lab-data-processing\\data\"\n",
    "    for root, dirs, files in os.walk( dest ):\n",
    "        for OneFileName in files :\n",
    "            if OneFileName.find( '.txt' ) == -1 :\n",
    "                continue\n",
    "            OneFullFileName = join( root, OneFileName )\n",
    "            AllFile.append(OneFullFileName)\n",
    "        return AllFile"
   ]
  },
  {
   "cell_type": "code",
   "execution_count": 5,
   "metadata": {
    "collapsed": false
   },
   "outputs": [
    {
     "data": {
      "text/plain": [
       "30"
      ]
     },
     "execution_count": 5,
     "metadata": {},
     "output_type": "execute_result"
    }
   ],
   "source": [
    "file = main()\n",
    "len(file)"
   ]
  },
  {
   "cell_type": "markdown",
   "metadata": {},
   "source": [
    "#### Detail information extract"
   ]
  },
  {
   "cell_type": "code",
   "execution_count": 6,
   "metadata": {
    "collapsed": false
   },
   "outputs": [],
   "source": [
    "class DataContentDecode:\n",
    "    \"\"\"Get the detail information\n",
    "    \n",
    "    This class help to decode the file and get the describe information\n",
    "    and data information.\n",
    "    \n",
    "    Attributes:\n",
    "        debug(int):             debug mode. 0 close and 1 open\n",
    "        \n",
    "        trailName(int):         the number of the trail \n",
    "        pelteirNumber(int):     the number of the peltier 0 - 8\n",
    "        subPelterNumber(int):   the index of the sub peltier 1 or 2\n",
    "        sex(int):               male 1   female 0\n",
    "        used(int):              used 1    unused 0\n",
    "        experimenter(int):      Hu 1   YZH 0\n",
    "        protocol(int):          A 1   B 0\n",
    "        rawData(pd.DataFrame):  data source\n",
    "    \n",
    "    \"\"\"\n",
    "    def __init__(self,fileName):\n",
    "        self.fileName = fileName      #the .txt file name\n",
    "        self.debug = 0\n",
    "    \n",
    "    def fileDecode(self):             #get the detail information\n",
    "        f = open(self.fileName,\"r\")\n",
    "        d = f.readlines()\n",
    "        headNumber = int(d[0][-5:-3])-2\n",
    "        \n",
    "        ''' get detail describe of data'''\n",
    "        for i in range(headNumber-2):\n",
    "            if(d[i].find(\"Trial name\")!=-1):\n",
    "                self.trailName = int(re.findall(r\"[0-9]+\",d[i])[0])\n",
    "                if(self.debug):\n",
    "                    print(\"trainName:\",int(re.findall(r\"[0-9]+\",d[i])[0]))\n",
    "            if(d[i].find(\"Arena name\")!=-1):\n",
    "                numFind = re.findall(r\"[0-9]+\",d[i])\n",
    "                self.peltierNumber = int(numFind[0])\n",
    "                self.subPeltierNumber = int(numFind[-1])\n",
    "                if(self.debug):\n",
    "                    print(\"peltierNumber:\",peltierNumber,\"subPeltierNumber:\",subPeltierNumber)\n",
    "            if(d[i].find(\"Sex\")!=-1):\n",
    "                if(d[i][7:-3]==\"male\"):\n",
    "                    self.sex = 1\n",
    "                else:\n",
    "                    self.sex = 0\n",
    "                if(self.debug):\n",
    "                    print(\"sex:\",sex)\n",
    "            if(d[i].find(\"Used\")!=-1):\n",
    "                if(d[i][8:-3]==\"Used\"):\n",
    "                    self.used = 1\n",
    "                else:\n",
    "                    self.used = 0               \n",
    "                if(self.debug):\n",
    "                    print(\"used:\",used)\n",
    "            if(d[i].find(\"Experimenter\")!=-1):\n",
    "                if(d[i][16:-3]==\"Hu\"):\n",
    "                    self.experimenter = 1\n",
    "                else:\n",
    "                    self.experimenter = 0\n",
    "                if(self.debug):\n",
    "                    print(\"experimenter:\",experimenter)\n",
    "            if(d[i].find(\"Protocol\")!=-1):\n",
    "                if(d[i][12:-3]==\"A\"):\n",
    "                    self.protocol = 1\n",
    "                else:\n",
    "                    self.protocol = 0\n",
    "                if(self.debug):\n",
    "                    print(\"protocol:\",protocol)\n",
    "        \n",
    "        ''' get raw data '''\n",
    "        head = [j for i,j in enumerate(list(d[int(d[0][-5:-3])-2].split('\"'))) if i%2 !=0 ]\n",
    "        if(self.debug):\n",
    "            print(head)\n",
    "        dataFrame = {i:[] for i in head}\n",
    "\n",
    "        for i in d[headNumber+2:]:\n",
    "            for index,data in zip(dataFrame,i.split(\";\")[:-1]):\n",
    "                if data=='\"-\"':\n",
    "                    data=np.nan\n",
    "                dataFrame[index].append(data)\n",
    "        self.rawData = pd.DataFrame(dataFrame)\n",
    "        if(self.debug):\n",
    "            print(self.rawData.head())\n",
    "        \n",
    "        \n",
    "        f.close()"
   ]
  },
  {
   "cell_type": "markdown",
   "metadata": {},
   "source": [
    "#### Extract all file"
   ]
  },
  {
   "cell_type": "code",
   "execution_count": 7,
   "metadata": {
    "collapsed": true
   },
   "outputs": [],
   "source": [
    "class GetAllFile:\n",
    "    \"\"\"Get the all file \n",
    "    \n",
    "    This class help to decode all the file and get their detail information\n",
    "    \n",
    "    Attributes:\n",
    "        dataContentDecodeList:  list of DataContentDecode Oject\n",
    "    \n",
    "    \"\"\"\n",
    "    def __init__(self,fileList):\n",
    "        self.fileList = fileList\n",
    "        self.dataContentDecodeList = []\n",
    "    \n",
    "    def getDataContentDecodeList(self):\n",
    "        for i in self.fileList:\n",
    "            t = DataContentDecode(i)\n",
    "            t.fileDecode()\n",
    "            self.dataContentDecodeList.append(t)\n",
    "    "
   ]
  },
  {
   "cell_type": "code",
   "execution_count": 8,
   "metadata": {
    "collapsed": false
   },
   "outputs": [],
   "source": [
    "t  = GetAllFile(file)\n",
    "t.getDataContentDecodeList()"
   ]
  },
  {
   "cell_type": "code",
   "execution_count": 9,
   "metadata": {
    "collapsed": false
   },
   "outputs": [],
   "source": [
    "bb = t.dataContentDecodeList"
   ]
  },
  {
   "cell_type": "code",
   "execution_count": 10,
   "metadata": {
    "collapsed": false
   },
   "outputs": [
    {
     "name": "stdout",
     "output_type": "stream",
     "text": [
      "5 5 1 1\n",
      "5 5 1 1\n",
      "5 6 1 1\n",
      "5 6 1 1\n",
      "5 7 1 1\n",
      "5 7 1 1\n",
      "5 8 1 1\n",
      "5 8 1 1\n",
      "6 5 1 1\n",
      "6 5 1 1\n",
      "6 6 1 1\n",
      "6 6 1 1\n",
      "6 7 1 1\n",
      "6 7 1 1\n",
      "6 8 1 1\n",
      "6 8 1 1\n",
      "7 5 1 1\n",
      "7 5 1 1\n",
      "7 6 1 1\n",
      "7 6 1 1\n",
      "7 7 1 1\n",
      "7 7 1 1\n",
      "7 8 1 1\n",
      "7 8 1 1\n",
      "8 5 1 1\n",
      "8 5 1 1\n",
      "8 6 1 1\n",
      "8 6 1 1\n",
      "8 8 1 1\n",
      "8 8 1 1\n",
      "number of 5 : 30\n"
     ]
    }
   ],
   "source": [
    "j  = 0\n",
    "for i in bb:\n",
    "    if i.sex == 1:\n",
    "        j+=1\n",
    "    print(i.trailName,i.peltierNumber,i.sex,i.experimenter)\n",
    "print( \"number of 5 :\",j )"
   ]
  },
  {
   "cell_type": "markdown",
   "metadata": {},
   "source": [
    "#### Data filter"
   ]
  },
  {
   "cell_type": "code",
   "execution_count": 11,
   "metadata": {
    "collapsed": false
   },
   "outputs": [],
   "source": [
    "class DataAnalysis:\n",
    "    \"\"\"Data analysis \n",
    "    \n",
    "    This class help to analyze data\n",
    "    \n",
    "    Attributes:\n",
    "        dataContentDecodeList:  list of DataContentDecode Oject\n",
    "    \n",
    "    \"\"\"\n",
    "    def __init__(self):\n",
    "            t = GetAllFile(file)\n",
    "            t.getDataContentDecodeList()\n",
    "            self.extractedFile = t.dataContentDecodeList\n",
    "    \n",
    "   \n",
    "    \n",
    "    \n",
    "    \n",
    "    \n",
    "    #--------------------------- Filter module start ---------------------#\n",
    "        \n",
    "    \n",
    "    \"\"\"\n",
    "    trailName = -1   means all trail\n",
    "    trailName: list\n",
    "    \"\"\"\n",
    "    def dataFilterTrailName(self,trailName,rawData):\n",
    "        result = []\n",
    "        if trailName == -1:\n",
    "            return rawData\n",
    "        else:\n",
    "            for i in trailName:\n",
    "                for j in rawData:\n",
    "                    if(j.trailName == i):\n",
    "                        result.append(j)\n",
    "        return result\n",
    "    \n",
    "    \n",
    "    '''\n",
    "    Experimenter = -1 means all trail\n",
    "    1 : Hu          \n",
    "    0 : ZhengHong\n",
    "    '''\n",
    "    def dataFilterExperimenter(self,experimenter,rawData):\n",
    "        result = []\n",
    "        if experimenter == -1:\n",
    "            return rawData\n",
    "        else:\n",
    "            for j in rawData:\n",
    "                if(j.experimenter == experimenter):\n",
    "                    result.append(j)\n",
    "        return result\n",
    "            \n",
    "    \n",
    "    '''\n",
    "    1  :  Used\n",
    "    0  :  unUsed\n",
    "    '''\n",
    "    def dataFilterUsed(self,used,rawData):\n",
    "        result = []\n",
    "        for j in rawData:\n",
    "            if(j.used == used):\n",
    "                result.append(j)\n",
    "        return result\n",
    "    \n",
    "    \n",
    "    '''\n",
    "    peltierNumber(list):    [0-8]\n",
    "    '''\n",
    "    def dataFilterPeltierNumber(self,peltierNumber,rawData):\n",
    "        result = []\n",
    "        if peltierNumber == -1:\n",
    "            return rawData\n",
    "        else:\n",
    "            for i in peltierNumber:\n",
    "                for j in rawData:\n",
    "                    if(j.peltierNumber == i):\n",
    "                        result.append(j)\n",
    "        return result\n",
    "    \n",
    "    \n",
    "    '''\n",
    "    sex(int):  male 1,  female 0,   All -1\n",
    "    '''\n",
    "    def dataFilterSex(self,sex,rawData):\n",
    "        result = []\n",
    "        if sex == -1:\n",
    "            return rawData\n",
    "        else:\n",
    "            for j in rawData:\n",
    "                if(j.sex == sex):\n",
    "                    result.append(j)\n",
    "        return result\n",
    "        \n",
    "    \n",
    "    '''\n",
    "    protocol(int):  A  1,  B  0,  All  -1\n",
    "    '''\n",
    "    def dataFilterProtocol(self,protocol,rawData):\n",
    "        result = []\n",
    "        if(protocol == -1):\n",
    "            return rawData\n",
    "        \n",
    "        for j in rawData:\n",
    "            if(j.protocol == protocol):\n",
    "                result.append(j)\n",
    "        return result\n",
    "    \n",
    "    \n",
    "    #--------------------------- Filter module end  ---------------------#\n",
    "    '''\n",
    "    Get all trailName\n",
    "    '''\n",
    "    def trailNameObtainInData(self):\n",
    "        trailName = []\n",
    "        for i in self.extractedFile:\n",
    "            trailName.append(i.trailName)\n",
    "        \n",
    "        return set(trailName)\n",
    "    \n",
    "    \n",
    "    '''\n",
    "    choose data from the following parapeters\n",
    "    '''\n",
    "    def chooseData(self,trailName,peltierNumber,used,sex,experimenter,protocol):\n",
    "        result = self.dataFilterTrailName(trailName,self.extractedFile)\n",
    "        result = self.dataFilterExperimenter(experimenter,result)\n",
    "        result = self.dataFilterUsed(used,result)\n",
    "        result = self.dataFilterProtocol(protocol,result)\n",
    "        result = self.dataFilterPeltierNumber(peltierNumber,result)\n",
    "        result = self.dataFilterSex(protocol,result)\n",
    "        return result\n",
    "    \n",
    "    \n",
    "    \n",
    "    \n",
    "    '''\n",
    "    input you filter information\n",
    "    '''\n",
    "    def dataFilter(self):\n",
    "        rawData = self.extractedFile\n",
    "    \n",
    "        print(\"Please input filter information\")\n",
    "        print(\"Detail parameters\")\n",
    "        print(\"   trailName:     input [1,2,3]  or -1(all trail)\")\n",
    "        print(\"                  trailName choosed form\",self.trailNameObtainInData())\n",
    "        print(\"   peltierNumber: input [1,2,3] or -1(all peltierNumber)\")\n",
    "        print(\"   used:          used 1, unused 0\")\n",
    "        print(\"   sex:           male 1, female 0, All -1\")\n",
    "        print(\"   experimenter:  Hu 1,  YZH 0, All -1\")\n",
    "        print(\"   protocol:      A 1, B 0, All -1\")\n",
    "        print(\"\")\n",
    "        \n",
    "        print(\"Please input you choose\")\n",
    "        \n",
    "        trailName = eval(input(\"TrailName:\"))\n",
    "        while(True):\n",
    "            if(type(trailName)==type([]) or trailName == -1):\n",
    "                break;\n",
    "            else:\n",
    "                print(\"input wrong,please input again\")\n",
    "                trailName = input(\"TrainName:\")\n",
    "        \n",
    "        \n",
    "        \n",
    "                \n",
    "                \n",
    "        \n",
    "        peltierNumber = eval(input(\"PeltierNumber:\"))\n",
    "        while(True):\n",
    "            if(type(peltierNumber) == type([]) or peltierNumber == -1):\n",
    "                break;\n",
    "            else:\n",
    "                print(\"input wrong,please input again\")\n",
    "                peltierNumber = eval(input(\"PeltierNumber:\"))\n",
    "                \n",
    "        used = eval(input(\"Used:\"))\n",
    "        while(True):\n",
    "            if(used== 0 or used==1):\n",
    "                break;\n",
    "            else:\n",
    "                print(\"input wrong,please input again\")\n",
    "                used = eval(input(\"Used:\"))\n",
    "        \n",
    "        \n",
    "        sex = eval(input(\"Sex:\"))\n",
    "        while(True):\n",
    "            if(sex== 0 or sex==1 or sex==-1 ):\n",
    "                break;\n",
    "            else:\n",
    "                print(\"input wrong,please input again\")\n",
    "                sex = eval(input(\"Sex:\"))\n",
    "                \n",
    "                \n",
    "        experimenter = eval(input(\"Experimenter:\"))\n",
    "        while(True):\n",
    "            if(experimenter== 0 or experimenter==1 or experimenter==-1 ):\n",
    "                break;\n",
    "            else:\n",
    "                print(\"input wrong,please input again\")\n",
    "                experimenter = eval(input(\"Experimenter:\"))\n",
    "        \n",
    "        \n",
    "        \n",
    "        \n",
    "        protocol = eval(input(\"Protocol:\"))\n",
    "        while(True):\n",
    "            if(protocol== 0 or protocol==1 or protocol==-1 ):\n",
    "                break;\n",
    "            else:\n",
    "                print(\"input wrong,please input again\")\n",
    "                protocol = eval(input(\"Protocol:\"))\n",
    "    \n",
    "        self.filterData = self.chooseData(trailName,peltierNumber,used,sex,experimenter,protocol)\n",
    "        print(\" \")\n",
    "        print(\"Number of data\",len(self.filterData))\n",
    "                \n",
    "    "
   ]
  },
  {
   "cell_type": "code",
   "execution_count": 12,
   "metadata": {
    "collapsed": false
   },
   "outputs": [],
   "source": [
    "#         trailName(int):         the number of the trail \n",
    "#         pelterNumber(int):      the number of the pelter 0 - 8\n",
    "#         subPelterNumber(int):   the index of the sub pelter 1 or 2\n",
    "#         sex(int):               male 1   female 0\n",
    "#         used(int):              used 1    unused 0\n",
    "#         experimenter(int):      Hu 1   YZH: 0\n",
    "#         protocol(int):          A 1   B 0\n",
    "#         rawData(pd.DataFrame):  data source"
   ]
  },
  {
   "cell_type": "code",
   "execution_count": 13,
   "metadata": {
    "collapsed": false
   },
   "outputs": [],
   "source": [
    "\n",
    "# t = DataAnalysis()\n",
    "# a = t.dataFilterTrailName(-1,t.extractedFile)\n",
    "\n",
    "t = DataAnalysis()\n",
    "a = t.dataFilterProtocol(-1,t.extractedFile)"
   ]
  },
  {
   "cell_type": "code",
   "execution_count": 14,
   "metadata": {
    "collapsed": false
   },
   "outputs": [
    {
     "name": "stdout",
     "output_type": "stream",
     "text": [
      "Please input filter information\n",
      "Detail parameters\n",
      "   trailName:     input [1,2,3]  or -1(all trail)\n",
      "                  trailName choosed form {8, 5, 6, 7}\n",
      "   peltierNumber: input [1,2,3] or -1(all peltierNumber)\n",
      "   used:          used 1, unused 0\n",
      "   sex:           male 1, female 0, All -1\n",
      "   experimenter:  Hu 1,  YZH 0, All -1\n",
      "   protocol:      A 1, B 0, All -1\n",
      "\n",
      "Please input you choose\n",
      "TrailName:-1\n",
      "PeltierNumber:-1\n",
      "Used:1\n",
      "Sex:-1\n",
      "Experimenter:-1\n",
      "Protocol:-1\n",
      " \n",
      "Number of data 30\n"
     ]
    }
   ],
   "source": [
    "result = t.dataFilter()"
   ]
  },
  {
   "cell_type": "code",
   "execution_count": 15,
   "metadata": {
    "collapsed": false
   },
   "outputs": [
    {
     "data": {
      "text/plain": [
       "[<__main__.DataContentDecode at 0x1887a2471d0>,\n",
       " <__main__.DataContentDecode at 0x1887a2476d8>,\n",
       " <__main__.DataContentDecode at 0x1887f8f4d68>,\n",
       " <__main__.DataContentDecode at 0x1887fd2c550>,\n",
       " <__main__.DataContentDecode at 0x18800151550>,\n",
       " <__main__.DataContentDecode at 0x18800577fd0>,\n",
       " <__main__.DataContentDecode at 0x188009a5208>,\n",
       " <__main__.DataContentDecode at 0x18800de2080>,\n",
       " <__main__.DataContentDecode at 0x188012184a8>,\n",
       " <__main__.DataContentDecode at 0x188016487b8>,\n",
       " <__main__.DataContentDecode at 0x1887a246048>,\n",
       " <__main__.DataContentDecode at 0x18801e91f60>,\n",
       " <__main__.DataContentDecode at 0x188022b3be0>,\n",
       " <__main__.DataContentDecode at 0x18803696ef0>,\n",
       " <__main__.DataContentDecode at 0x18803acea58>,\n",
       " <__main__.DataContentDecode at 0x188009a6048>,\n",
       " <__main__.DataContentDecode at 0x1880432eba8>,\n",
       " <__main__.DataContentDecode at 0x1880475f780>,\n",
       " <__main__.DataContentDecode at 0x18804b801d0>,\n",
       " <__main__.DataContentDecode at 0x18804fb4518>,\n",
       " <__main__.DataContentDecode at 0x188053c7f60>,\n",
       " <__main__.DataContentDecode at 0x188057ea828>,\n",
       " <__main__.DataContentDecode at 0x18805c21a58>,\n",
       " <__main__.DataContentDecode at 0x18806053f98>,\n",
       " <__main__.DataContentDecode at 0x1880648a160>,\n",
       " <__main__.DataContentDecode at 0x188068be7b8>,\n",
       " <__main__.DataContentDecode at 0x18806ce2668>,\n",
       " <__main__.DataContentDecode at 0x1880710d710>,\n",
       " <__main__.DataContentDecode at 0x1880751cb38>,\n",
       " <__main__.DataContentDecode at 0x18807933160>]"
      ]
     },
     "execution_count": 15,
     "metadata": {},
     "output_type": "execute_result"
    }
   ],
   "source": [
    "data = t.filterData\n",
    "data"
   ]
  },
  {
   "cell_type": "markdown",
   "metadata": {
    "collapsed": true
   },
   "source": [
    "\n",
    "#### Group data to master and yorked"
   ]
  },
  {
   "cell_type": "code",
   "execution_count": 16,
   "metadata": {
    "collapsed": false
   },
   "outputs": [
    {
     "name": "stdout",
     "output_type": "stream",
     "text": [
      "5 5 1 0\n",
      "5 5 2 0\n",
      "5 6 1 0\n",
      "5 6 2 0\n",
      "5 7 1 0\n",
      "5 7 2 0\n",
      "5 8 1 0\n",
      "5 8 2 0\n",
      "6 5 1 0\n",
      "6 5 2 0\n",
      "6 6 1 0\n",
      "6 6 2 0\n",
      "6 7 1 0\n",
      "6 7 2 0\n",
      "6 8 1 0\n",
      "6 8 2 0\n",
      "7 5 1 0\n",
      "7 5 2 0\n",
      "7 6 1 0\n",
      "7 6 2 0\n",
      "7 7 1 0\n",
      "7 7 2 0\n",
      "7 8 1 0\n",
      "7 8 2 0\n",
      "8 5 1 0\n",
      "8 5 2 0\n",
      "8 6 1 0\n",
      "8 6 2 0\n",
      "8 8 1 0\n",
      "8 8 2 0\n"
     ]
    }
   ],
   "source": [
    "## Group data with master and yorked\n",
    "for i in data:\n",
    "    print(i.trailName,i.peltierNumber,i.subPeltierNumber,i.protocol)\n",
    "    "
   ]
  },
  {
   "cell_type": "code",
   "execution_count": 73,
   "metadata": {
    "collapsed": false
   },
   "outputs": [],
   "source": [
    "## Group data with master and yorked\n",
    "class GroupData:\n",
    "    '''\n",
    "    Group data by their trailName and peltierNumber\n",
    "    \n",
    "    Attribute:\n",
    "        data:                     data after filter\n",
    "        master,yorked:            data divide by the property of master and yorked\n",
    "        AllTrailName:             set of trail name\n",
    "        dataDivideByTrailName:    dic of data by trail name\n",
    "        \n",
    "    '''\n",
    "    \n",
    "    def __init__(self,data):\n",
    "        self.data = data\n",
    "        self.master = []\n",
    "        self.yorked = []\n",
    "    \n",
    "    \n",
    "    '''\n",
    "    get the set of trailName.\n",
    "    '''\n",
    "    def __getTrailName(self):\n",
    "        self.AllTrailName = []\n",
    "        for i in data:\n",
    "            self.AllTrailName.append(i.trailName)\n",
    "        self.AllTrailName = set(self.AllTrailName)\n",
    "    \n",
    "    \n",
    "    '''\n",
    "    group data by trailName and produce a dic with key of trailName\n",
    "    '''\n",
    "    def __groupData(self):\n",
    "        self.__getTrailName()\n",
    "        self.dataDivideByTrailName = {}\n",
    "        for i in self.AllTrailName:\n",
    "            self.dataDivideByTrailName[i]=[]\n",
    "            for dataItem in self.data:\n",
    "                if dataItem.trailName == i:\n",
    "                    self.dataDivideByTrailName[i].append(dataItem)\n",
    "    \n",
    "    '''\n",
    "    sort the data to make the data who has same trailName and peltierNumber \n",
    "    get together\n",
    "    '''\n",
    "    def __groupToMasterAndYorked(self):\n",
    "        self.TempData = []\n",
    "        for key in self.dataDivideByTrailName.keys():\n",
    "            dicLength = len(self.dataDivideByTrailName[key])\n",
    "            dicContent = self.dataDivideByTrailName[key]\n",
    "            for i in range(dicLength-1):\n",
    "                for j in range(i+1,dicLength):\n",
    "                    if dicContent[i].peltierNumber == dicContent[j].peltierNumber:\n",
    "                        self.TempData.append(dicContent[i])\n",
    "                        self.TempData.append(dicContent[j])\n",
    "            \n",
    "       \n",
    "                \n",
    "    '''\n",
    "    finial group function to get the master group and yorked group\n",
    "    '''            \n",
    "    def GetAllGroup(self):\n",
    "        self.__groupData()\n",
    "        self.__groupToMasterAndYorked()\n",
    "        for i in range(len(self.TempData)):\n",
    "            if i%2 == 0:\n",
    "                pass\n",
    "            else:\n",
    "                if self.TempData[i].protocol == 1:\n",
    "                    if self.TempData[i].subPeltierNumber == 1:\n",
    "                        self.master.append(self.TempData[i])\n",
    "                        self.yorked.append(self.TempData[i-1])\n",
    "                    else:\n",
    "                        self.yorked.append(self.TempData[i])\n",
    "                        self.master.append(self.TempData[i-1])\n",
    "                else:\n",
    "                    if self.TempData[i].subPeltierNumber == 1:\n",
    "                        self.yorked.append(self.TempData[i])\n",
    "                        self.master.append(self.TempData[i-1])\n",
    "                    else:\n",
    "                        self.master.append(self.TempData[i])\n",
    "                        self.yorked.append(self.TempData[i-1])\n",
    "                    \n",
    "    \n",
    "        \n",
    "        "
   ]
  },
  {
   "cell_type": "code",
   "execution_count": 74,
   "metadata": {
    "collapsed": false,
    "scrolled": true
   },
   "outputs": [],
   "source": [
    "gd = GroupData(data)\n",
    "gd.GetAllGroup()"
   ]
  },
  {
   "cell_type": "code",
   "execution_count": 83,
   "metadata": {
    "collapsed": false,
    "scrolled": true
   },
   "outputs": [
    {
     "name": "stdout",
     "output_type": "stream",
     "text": [
      "master 8 5 2\n",
      "yorked 8 5 1\n",
      "master 8 6 2\n",
      "yorked 8 6 1\n",
      "master 8 8 2\n",
      "yorked 8 8 1\n",
      "master 5 5 2\n",
      "yorked 5 5 1\n",
      "master 5 6 2\n",
      "yorked 5 6 1\n",
      "master 5 7 2\n",
      "yorked 5 7 1\n",
      "master 5 8 2\n",
      "yorked 5 8 1\n",
      "master 6 5 2\n",
      "yorked 6 5 1\n",
      "master 6 6 2\n",
      "yorked 6 6 1\n",
      "master 6 7 2\n",
      "yorked 6 7 1\n",
      "master 6 8 2\n",
      "yorked 6 8 1\n",
      "master 7 5 2\n",
      "yorked 7 5 1\n",
      "master 7 6 2\n",
      "yorked 7 6 1\n",
      "master 7 7 2\n",
      "yorked 7 7 1\n",
      "master 7 8 2\n",
      "yorked 7 8 1\n"
     ]
    }
   ],
   "source": [
    "for i,j in zip(gd.master,gd.yorked):\n",
    "    print(\"master\",i.trailName,i.peltierNumber,i.subPeltierNumber)\n",
    "    print(\"yorked\",j.trailName,j.peltierNumber,j.subPeltierNumber)"
   ]
  },
  {
   "cell_type": "markdown",
   "metadata": {
    "collapsed": false
   },
   "source": [
    "# Analysis and visualization"
   ]
  },
  {
   "cell_type": "markdown",
   "metadata": {},
   "source": [
    "\n",
    "\n"
   ]
  },
  {
   "cell_type": "code",
   "execution_count": 110,
   "metadata": {
    "collapsed": false
   },
   "outputs": [],
   "source": [
    "class AnalysisData:\n",
    "    '''\n",
    "    Get the detail information from the filtered data\n",
    "    \n",
    "    '''\n",
    "    \n",
    "    def __init__(self,master,yorked):\n",
    "        self.master = master \n",
    "        self.yorked = yorked\n",
    "    \n",
    "    \n",
    "    \n",
    "    \n",
    "    \n",
    "    \n",
    "    \n",
    "    "
   ]
  },
  {
   "cell_type": "code",
   "execution_count": 111,
   "metadata": {
    "collapsed": false
   },
   "outputs": [],
   "source": [
    "ad = AnalysisData(gd.master,gd.yorked)"
   ]
  },
  {
   "cell_type": "code",
   "execution_count": null,
   "metadata": {
    "collapsed": false
   },
   "outputs": [],
   "source": []
  },
  {
   "cell_type": "code",
   "execution_count": 115,
   "metadata": {
    "collapsed": false
   },
   "outputs": [
    {
     "data": {
      "text/html": [
       "<div>\n",
       "<table border=\"1\" class=\"dataframe\">\n",
       "  <thead>\n",
       "    <tr style=\"text-align: right;\">\n",
       "      <th></th>\n",
       "      <th>Area</th>\n",
       "      <th>Areachange</th>\n",
       "      <th>Elongation</th>\n",
       "      <th>Movement</th>\n",
       "      <th>Pretest</th>\n",
       "      <th>Recording time</th>\n",
       "      <th>Test</th>\n",
       "      <th>Training</th>\n",
       "      <th>Trial time</th>\n",
       "      <th>X center</th>\n",
       "      <th>Y center</th>\n",
       "    </tr>\n",
       "  </thead>\n",
       "  <tbody>\n",
       "    <tr>\n",
       "      <th>0</th>\n",
       "      <td>3.00191</td>\n",
       "      <td>0.529749</td>\n",
       "      <td>0.384809</td>\n",
       "      <td>NaN</td>\n",
       "      <td>1</td>\n",
       "      <td>0.000</td>\n",
       "      <td>0</td>\n",
       "      <td>0</td>\n",
       "      <td>0.000</td>\n",
       "      <td>-21.08</td>\n",
       "      <td>14.5703</td>\n",
       "    </tr>\n",
       "    <tr>\n",
       "      <th>1</th>\n",
       "      <td>NaN</td>\n",
       "      <td>NaN</td>\n",
       "      <td>NaN</td>\n",
       "      <td>NaN</td>\n",
       "      <td>1</td>\n",
       "      <td>0.040</td>\n",
       "      <td>0</td>\n",
       "      <td>0</td>\n",
       "      <td>0.040</td>\n",
       "      <td>NaN</td>\n",
       "      <td>NaN</td>\n",
       "    </tr>\n",
       "    <tr>\n",
       "      <th>2</th>\n",
       "      <td>NaN</td>\n",
       "      <td>NaN</td>\n",
       "      <td>NaN</td>\n",
       "      <td>NaN</td>\n",
       "      <td>1</td>\n",
       "      <td>0.080</td>\n",
       "      <td>0</td>\n",
       "      <td>0</td>\n",
       "      <td>0.080</td>\n",
       "      <td>NaN</td>\n",
       "      <td>NaN</td>\n",
       "    </tr>\n",
       "    <tr>\n",
       "      <th>3</th>\n",
       "      <td>NaN</td>\n",
       "      <td>NaN</td>\n",
       "      <td>NaN</td>\n",
       "      <td>NaN</td>\n",
       "      <td>1</td>\n",
       "      <td>0.120</td>\n",
       "      <td>0</td>\n",
       "      <td>0</td>\n",
       "      <td>0.120</td>\n",
       "      <td>NaN</td>\n",
       "      <td>NaN</td>\n",
       "    </tr>\n",
       "    <tr>\n",
       "      <th>4</th>\n",
       "      <td>3.17849</td>\n",
       "      <td>0.353166</td>\n",
       "      <td>0.515148</td>\n",
       "      <td>NaN</td>\n",
       "      <td>1</td>\n",
       "      <td>0.160</td>\n",
       "      <td>0</td>\n",
       "      <td>0</td>\n",
       "      <td>0.160</td>\n",
       "      <td>-20.9376</td>\n",
       "      <td>14.587</td>\n",
       "    </tr>\n",
       "  </tbody>\n",
       "</table>\n",
       "</div>"
      ],
      "text/plain": [
       "      Area Areachange Elongation Movement Pretest Recording time Test  \\\n",
       "0  3.00191   0.529749   0.384809      NaN       1          0.000    0   \n",
       "1      NaN        NaN        NaN      NaN       1          0.040    0   \n",
       "2      NaN        NaN        NaN      NaN       1          0.080    0   \n",
       "3      NaN        NaN        NaN      NaN       1          0.120    0   \n",
       "4  3.17849   0.353166   0.515148      NaN       1          0.160    0   \n",
       "\n",
       "  Training Trial time  X center Y center  \n",
       "0        0      0.000    -21.08  14.5703  \n",
       "1        0      0.040       NaN      NaN  \n",
       "2        0      0.080       NaN      NaN  \n",
       "3        0      0.120       NaN      NaN  \n",
       "4        0      0.160  -20.9376   14.587  "
      ]
     },
     "execution_count": 115,
     "metadata": {},
     "output_type": "execute_result"
    }
   ],
   "source": [
    "gd.master[0].rawData.head()"
   ]
  },
  {
   "cell_type": "code",
   "execution_count": 116,
   "metadata": {
    "collapsed": false
   },
   "outputs": [
    {
     "data": {
      "text/plain": [
       "10501"
      ]
     },
     "execution_count": 116,
     "metadata": {},
     "output_type": "execute_result"
    }
   ],
   "source": [
    "len(gd.master[0].rawData)"
   ]
  },
  {
   "cell_type": "code",
   "execution_count": null,
   "metadata": {
    "collapsed": false
   },
   "outputs": [],
   "source": []
  },
  {
   "cell_type": "code",
   "execution_count": null,
   "metadata": {
    "collapsed": true
   },
   "outputs": [],
   "source": []
  }
 ],
 "metadata": {
  "kernelspec": {
   "display_name": "Python 3",
   "language": "python",
   "name": "python3"
  },
  "language_info": {
   "codemirror_mode": {
    "name": "ipython",
    "version": 3
   },
   "file_extension": ".py",
   "mimetype": "text/x-python",
   "name": "python",
   "nbconvert_exporter": "python",
   "pygments_lexer": "ipython3",
   "version": "3.6.0"
  }
 },
 "nbformat": 4,
 "nbformat_minor": 2
}
