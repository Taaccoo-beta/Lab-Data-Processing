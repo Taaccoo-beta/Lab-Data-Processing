{
 "cells": [
  {
   "cell_type": "code",
   "execution_count": 1,
   "metadata": {
    "collapsed": true
   },
   "outputs": [],
   "source": [
    "f = open(\"h:/data\\data\\Track-26th Exp_20170421_LH_2 frames_Lightbox+2 White LED_25 30C_1min 4min 2min-Trial     6-Peltier 8-2-Subject 1.txt\",\"r\")"
   ]
  },
  {
   "cell_type": "code",
   "execution_count": 2,
   "metadata": {
    "collapsed": true
   },
   "outputs": [],
   "source": [
    "import numpy as np\n",
    "import pandas as pd\n",
    "d = f.readlines()"
   ]
  },
  {
   "cell_type": "code",
   "execution_count": 3,
   "metadata": {
    "collapsed": false
   },
   "outputs": [
    {
     "name": "stdout",
     "output_type": "stream",
     "text": [
      "37\n"
     ]
    }
   ],
   "source": [
    "headNumber = int(d[0][-5:-3])-2\n",
    "print(headNumber)\n"
   ]
  },
  {
   "cell_type": "code",
   "execution_count": 4,
   "metadata": {
    "collapsed": false
   },
   "outputs": [
    {
     "name": "stdout",
     "output_type": "stream",
     "text": [
      "sss\n"
     ]
    },
    {
     "data": {
      "text/plain": [
       "'\"Arena name\";\"Peltier 8-2\";\\n'"
      ]
     },
     "execution_count": 4,
     "metadata": {},
     "output_type": "execute_result"
    }
   ],
   "source": [
    "d[1].find(\"Trail name\")\n",
    "\n",
    "if(-1):\n",
    "    print(\"sss\")\n",
    "d[5]"
   ]
  },
  {
   "cell_type": "code",
   "execution_count": 5,
   "metadata": {
    "collapsed": false
   },
   "outputs": [],
   "source": [
    "import re\n",
    "headNumber = int(re.findall(r\"[0-9]+\",d[0])[0])"
   ]
  },
  {
   "cell_type": "code",
   "execution_count": 38,
   "metadata": {
    "collapsed": false
   },
   "outputs": [
    {
     "name": "stdout",
     "output_type": "stream",
     "text": [
      "train name: 6\n",
      "8 2\n",
      "0\n",
      "1\n",
      "1\n",
      "1\n",
      "0\n"
     ]
    }
   ],
   "source": [
    "for i in range(headNumber-2):\n",
    "    if(d[i].find(\"Trial name\")!=-1):\n",
    "        print(\"train name:\",int(re.findall(r\"[0-9]+\",d[i])[0]))\n",
    "    if(d[i].find(\"Arena name\")!=-1):\n",
    "        numFind = re.findall(r\"[0-9]+\",d[i])\n",
    "        peltierNumber = int(numFind[0])\n",
    "        subPeltierNumber = int(numFind[-1])\n",
    "        print(peltierNumber,subPeltierNumber)\n",
    "    if(d[i].find(\"Sex\")!=-1):\n",
    "        if(d[i][7:-3]==\"male\"):\n",
    "            sex = 1\n",
    "        else:\n",
    "            sex = 0\n",
    "        print(sex)\n",
    "    if(d[i].find(\"Used\")!=-1):\n",
    "        if(d[i][8:-3]==\"Used\"):\n",
    "            used = 1\n",
    "        else:\n",
    "            used = 0\n",
    "        print(used)\n",
    "    if(d[i].find(\"Experimenter\")!=-1):\n",
    "        if(d[i][16:-3]==\"Hu\"):\n",
    "            experimenter = 1\n",
    "        else:\n",
    "            experimenter = 0\n",
    "        print(experimenter)\n",
    "    if(d[i].find(\"Protocol\")!=-1):\n",
    "        if(d[i][12:-3]==\"A\"):\n",
    "            protocol = 1\n",
    "        else:\n",
    "            protocol = 0\n",
    "        print(protocol)\n",
    "        \n",
    "\n"
   ]
  },
  {
   "cell_type": "code",
   "execution_count": null,
   "metadata": {
    "collapsed": false
   },
   "outputs": [],
   "source": [
    "import re\n",
    "\n",
    "int(re.findall(r\"[0-9]+\",d[0])[0])"
   ]
  },
  {
   "cell_type": "code",
   "execution_count": 7,
   "metadata": {
    "collapsed": false
   },
   "outputs": [
    {
     "data": {
      "text/plain": [
       "['\"Number of header lines:\";\"39\";\\n',\n",
       " '\"Experiment\";\"26th Exp_20170421_LH_2 frames_Lightbox+2 White LED_25 30C_1min 4min 2min\";\\n',\n",
       " '\"System Independent Variable\";\\n',\n",
       " '\"Trial name\";\"Trial     6\";\\n',\n",
       " '\"Trial ID\";\"5\";\\n',\n",
       " '\"Arena name\";\"Peltier 8-2\";\\n',\n",
       " '\"Arena ID\";\"14\";\\n',\n",
       " '\"Subject name\";\"Subject 1\";\\n',\n",
       " '\"Subject ID\";\"0\";\\n',\n",
       " '\"Arena settings\";\"B\";\\n',\n",
       " '\"Detection settings\";\"Detection Settings\";\\n',\n",
       " '\"Trial Control settings\";\"LH_Protocol\";\\n',\n",
       " '\"Start time\";\"04/22/2017 15:23:00.108\";\\n',\n",
       " '\"Trial duration\";\"+ 00:07:00.040\";\\n',\n",
       " '\"Recording after\";\"+ 00:00:00.000\";\\n',\n",
       " '\"Recording duration\";\"+ 00:07:00.040\";\\n',\n",
       " '\"Track\";\"Track filet0005a0014o0000_0001.trk\";\\n',\n",
       " '\"Tracking source\";\"Basler GenICam [Basler acA1300-60]\";\\n',\n",
       " '\"Video file\";\"E:\\\\Experiment\\\\26th Exp_20170421_LH_2 frames_Lightbox+2 White LED_25 30C_1min 4min 2min\\\\Media Files\\\\Trial     6.mpg\";\\n',\n",
       " '\"Video start time\";\"04/22/2017 15:23:00.108\";\\n',\n",
       " '\"Trial status\";\"2\";\\n',\n",
       " '\"Acquisition status\";\"Acquired\";\\n',\n",
       " '\"Track status\";\"Acquired\";\\n',\n",
       " '\"Video file status\";\"Generated\";\\n',\n",
       " '\"Sync status\";\"Not available\";\\n',\n",
       " '\"Reference duration\";\"+ 00:07:00.040\";\\n',\n",
       " '\"Reference time\";\"04/22/2017 15:23:00.108\";\\n',\n",
       " '\"Sof file\";\"\";\\n',\n",
       " '\"Missed samples\";\"0.4 %\";\\n',\n",
       " '\"Subject not found\";\"0.7 %\";\\n',\n",
       " '\"User-defined Independent Variable\";\\n',\n",
       " '\"Peltier\";\"8\";\\n',\n",
       " '\"Sex\";\"male\";\\n',\n",
       " '\"Used\";\"Used\";\\n',\n",
       " '\"Experimenter\";\"Hu\";\\n',\n",
       " '\"Protocol\";\"B\";\\n',\n",
       " '\" \";\\n']"
      ]
     },
     "execution_count": 7,
     "metadata": {},
     "output_type": "execute_result"
    }
   ],
   "source": [
    "d[0:37]"
   ]
  },
  {
   "cell_type": "code",
   "execution_count": null,
   "metadata": {
    "collapsed": true
   },
   "outputs": [],
   "source": [
    "\n",
    "class DataDetail:\n",
    "    def __init__(self):\n",
    "        pass"
   ]
  },
  {
   "cell_type": "code",
   "execution_count": 173,
   "metadata": {
    "collapsed": true
   },
   "outputs": [],
   "source": [
    "class DataContentDecode:\n",
    "    \"\"\"Get the detail information\n",
    "    \n",
    "    This class help to decode the file and get the describe information\n",
    "    and data information.\n",
    "    \n",
    "    Attributes:\n",
    "        debug(int):             debug mode. 0 close and 1 open\n",
    "        trailName(int):         the number of the trail \n",
    "        pelterNumber(int):      the number of the pelter 0 - 8\n",
    "        subPelterNumber(int):   the index of the sub pelter 1 or 2\n",
    "        sex(int):               male 1   female 0\n",
    "        used(int):              used 1    unused 0\n",
    "        experimenter(int):      Hu 1   YZH: 0\n",
    "        protocol(int):          A 1   B 0\n",
    "        rawData(pd.DataFrame):  data source\n",
    "    \n",
    "    \"\"\"\n",
    "    def __init__(self,fileName):\n",
    "        self.fileName = fileName\n",
    "        self.debug = 0\n",
    "    def fileDecode(self):\n",
    "        f = open(self.fileName,\"r\")\n",
    "        d = f.readlines()\n",
    "        headNumber = int(d[0][-5:-3])-2\n",
    "        \n",
    "        ''' get detail describe of data'''\n",
    "        for i in range(headNumber-2):\n",
    "            if(d[i].find(\"Trial name\")!=-1):\n",
    "                self.trailName = int(re.findall(r\"[0-9]+\",d[i])[0])\n",
    "                if(self.debug):\n",
    "                    print(\"trainName:\",int(re.findall(r\"[0-9]+\",d[i])[0]))\n",
    "            if(d[i].find(\"Arena name\")!=-1):\n",
    "                numFind = re.findall(r\"[0-9]+\",d[i])\n",
    "                self.peltierNumber = int(numFind[0])\n",
    "                self.subPeltierNumber = int(numFind[-1])\n",
    "                if(self.debug):\n",
    "                    print(\"peltierNumber:\",peltierNumber,\"subPeltierNumber:\",subPeltierNumber)\n",
    "            if(d[i].find(\"Sex\")!=-1):\n",
    "                if(d[i][7:-3]==\"male\"):\n",
    "                    self.sex = 1\n",
    "                else:\n",
    "                    self.sex = 0\n",
    "                if(self.debug):\n",
    "                    print(\"sex:\",sex)\n",
    "            if(d[i].find(\"Used\")!=-1):\n",
    "                if(d[i][8:-3]==\"Used\"):\n",
    "                    self.used = 1\n",
    "                else:\n",
    "                    self.used = 0               \n",
    "                if(self.debug):\n",
    "                    print(\"used:\",used)\n",
    "            if(d[i].find(\"Experimenter\")!=-1):\n",
    "                if(d[i][16:-3]==\"Hu\"):\n",
    "                    self.experimenter = 1\n",
    "                else:\n",
    "                    self.experimenter = 0\n",
    "                if(self.debug):\n",
    "                    print(\"experimenter:\",experimenter)\n",
    "            if(d[i].find(\"Protocol\")!=-1):\n",
    "                if(d[i][12:-3]==\"A\"):\n",
    "                    self.protocol = 1\n",
    "                else:\n",
    "                    self.protocol = 0\n",
    "                if(self.debug):\n",
    "                    print(\"protocol:\",protocol)\n",
    "        \n",
    "        ''' get raw data '''\n",
    "        head = [j for i,j in enumerate(list(d[int(d[0][-5:-3])-2].split('\"'))) if i%2 !=0 ]\n",
    "        if(self.debug):\n",
    "            print(head)\n",
    "        dataFrame = {i:[] for i in head}\n",
    "\n",
    "        for i in d[headNumber+2:]:\n",
    "            for index,data in zip(dataFrame,i.split(\";\")[:-1]):\n",
    "                if data=='\"-\"':\n",
    "                    data=np.nan\n",
    "                dataFrame[index].append(data)\n",
    "        self.rawData = pd.DataFrame(dataFrame)\n",
    "        if(self.debug):\n",
    "            print(self.rawData.head())\n",
    "        \n",
    "        \n",
    "        f.close()\n",
    "                    \n",
    "        "
   ]
  },
  {
   "cell_type": "code",
   "execution_count": 174,
   "metadata": {
    "collapsed": true
   },
   "outputs": [],
   "source": [
    "class DataCollection:\n",
    "    def __init__(self):\n",
    "        pass"
   ]
  },
  {
   "cell_type": "code",
   "execution_count": 178,
   "metadata": {
    "collapsed": false,
    "scrolled": true
   },
   "outputs": [
    {
     "name": "stdout",
     "output_type": "stream",
     "text": [
      "trainName: 6\n",
      "peltierNumber: 8 subPeltierNumber: 2\n",
      "protocol: 0\n",
      "sex: 1\n",
      "used: 1\n",
      "experimenter: 1\n",
      "['Trial time', 'Recording time', 'X center', 'Y center', 'Area', 'Areachange', 'Elongation', 'Movement', 'Pretest', 'Training', 'Test']\n",
      "     Area Areachange Elongation Movement Pretest Recording time Test Training  \\\n",
      "0  4.1497  0.0882915   0.577987      NaN       1          0.000    0        0   \n",
      "1     NaN        NaN        NaN      NaN       1          0.040    0        0   \n",
      "2     NaN        NaN        NaN      NaN       1          0.080    0        0   \n",
      "3     NaN        NaN        NaN      NaN       1          0.120    0        0   \n",
      "4  4.1497          0   0.577987      NaN       1          0.160    0        0   \n",
      "\n",
      "  Trial time X center  Y center  \n",
      "0      0.000  9.10518  -78.4956  \n",
      "1      0.040      NaN       NaN  \n",
      "2      0.080      NaN       NaN  \n",
      "3      0.120      NaN       NaN  \n",
      "4      0.160  9.10518  -78.4956  \n"
     ]
    }
   ],
   "source": [
    "t = DataContentDecode(filePath)\n",
    "t.debug = 1\n",
    "t.fileDecode()"
   ]
  },
  {
   "cell_type": "code",
   "execution_count": 180,
   "metadata": {
    "collapsed": false
   },
   "outputs": [
    {
     "data": {
      "text/html": [
       "<div>\n",
       "<table border=\"1\" class=\"dataframe\">\n",
       "  <thead>\n",
       "    <tr style=\"text-align: right;\">\n",
       "      <th></th>\n",
       "      <th>Area</th>\n",
       "      <th>Areachange</th>\n",
       "      <th>Elongation</th>\n",
       "      <th>Movement</th>\n",
       "      <th>Pretest</th>\n",
       "      <th>Recording time</th>\n",
       "      <th>Test</th>\n",
       "      <th>Training</th>\n",
       "      <th>Trial time</th>\n",
       "      <th>X center</th>\n",
       "      <th>Y center</th>\n",
       "    </tr>\n",
       "  </thead>\n",
       "  <tbody>\n",
       "    <tr>\n",
       "      <th>0</th>\n",
       "      <td>4.1497</td>\n",
       "      <td>0.0882915</td>\n",
       "      <td>0.577987</td>\n",
       "      <td>NaN</td>\n",
       "      <td>1</td>\n",
       "      <td>0.000</td>\n",
       "      <td>0</td>\n",
       "      <td>0</td>\n",
       "      <td>0.000</td>\n",
       "      <td>9.10518</td>\n",
       "      <td>-78.4956</td>\n",
       "    </tr>\n",
       "    <tr>\n",
       "      <th>1</th>\n",
       "      <td>NaN</td>\n",
       "      <td>NaN</td>\n",
       "      <td>NaN</td>\n",
       "      <td>NaN</td>\n",
       "      <td>1</td>\n",
       "      <td>0.040</td>\n",
       "      <td>0</td>\n",
       "      <td>0</td>\n",
       "      <td>0.040</td>\n",
       "      <td>NaN</td>\n",
       "      <td>NaN</td>\n",
       "    </tr>\n",
       "    <tr>\n",
       "      <th>2</th>\n",
       "      <td>NaN</td>\n",
       "      <td>NaN</td>\n",
       "      <td>NaN</td>\n",
       "      <td>NaN</td>\n",
       "      <td>1</td>\n",
       "      <td>0.080</td>\n",
       "      <td>0</td>\n",
       "      <td>0</td>\n",
       "      <td>0.080</td>\n",
       "      <td>NaN</td>\n",
       "      <td>NaN</td>\n",
       "    </tr>\n",
       "    <tr>\n",
       "      <th>3</th>\n",
       "      <td>NaN</td>\n",
       "      <td>NaN</td>\n",
       "      <td>NaN</td>\n",
       "      <td>NaN</td>\n",
       "      <td>1</td>\n",
       "      <td>0.120</td>\n",
       "      <td>0</td>\n",
       "      <td>0</td>\n",
       "      <td>0.120</td>\n",
       "      <td>NaN</td>\n",
       "      <td>NaN</td>\n",
       "    </tr>\n",
       "    <tr>\n",
       "      <th>4</th>\n",
       "      <td>4.1497</td>\n",
       "      <td>0</td>\n",
       "      <td>0.577987</td>\n",
       "      <td>NaN</td>\n",
       "      <td>1</td>\n",
       "      <td>0.160</td>\n",
       "      <td>0</td>\n",
       "      <td>0</td>\n",
       "      <td>0.160</td>\n",
       "      <td>9.10518</td>\n",
       "      <td>-78.4956</td>\n",
       "    </tr>\n",
       "  </tbody>\n",
       "</table>\n",
       "</div>"
      ],
      "text/plain": [
       "     Area Areachange Elongation Movement Pretest Recording time Test Training  \\\n",
       "0  4.1497  0.0882915   0.577987      NaN       1          0.000    0        0   \n",
       "1     NaN        NaN        NaN      NaN       1          0.040    0        0   \n",
       "2     NaN        NaN        NaN      NaN       1          0.080    0        0   \n",
       "3     NaN        NaN        NaN      NaN       1          0.120    0        0   \n",
       "4  4.1497          0   0.577987      NaN       1          0.160    0        0   \n",
       "\n",
       "  Trial time X center  Y center  \n",
       "0      0.000  9.10518  -78.4956  \n",
       "1      0.040      NaN       NaN  \n",
       "2      0.080      NaN       NaN  \n",
       "3      0.120      NaN       NaN  \n",
       "4      0.160  9.10518  -78.4956  "
      ]
     },
     "execution_count": 180,
     "metadata": {},
     "output_type": "execute_result"
    }
   ],
   "source": [
    "t.rawData.head()"
   ]
  },
  {
   "cell_type": "code",
   "execution_count": null,
   "metadata": {
    "collapsed": false
   },
   "outputs": [],
   "source": []
  },
  {
   "cell_type": "code",
   "execution_count": null,
   "metadata": {
    "collapsed": true
   },
   "outputs": [],
   "source": []
  }
 ],
 "metadata": {
  "kernelspec": {
   "display_name": "Python 3",
   "language": "python",
   "name": "python3"
  },
  "language_info": {
   "codemirror_mode": {
    "name": "ipython",
    "version": 3
   },
   "file_extension": ".py",
   "mimetype": "text/x-python",
   "name": "python",
   "nbconvert_exporter": "python",
   "pygments_lexer": "ipython3",
   "version": "3.6.0"
  }
 },
 "nbformat": 4,
 "nbformat_minor": 2
}
