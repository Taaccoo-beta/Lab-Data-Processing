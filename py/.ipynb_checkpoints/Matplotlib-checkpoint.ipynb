{
 "cells": [
  {
   "cell_type": "markdown",
   "metadata": {},
   "source": [
    "## 读取该目录下所有txt文件名称"
   ]
  },
  {
   "cell_type": "code",
   "execution_count": 1,
   "metadata": {
    "collapsed": false
   },
   "outputs": [],
   "source": [
    "#读取目录下所有文件\n",
    "\n",
    "import os\n",
    "from os.path import join\n",
    "\n",
    "AllFile = []\n",
    "def main() :\n",
    "    dest = \"h:/data\"\n",
    "    outfile = open( \"output.txt\", \"w\" )\n",
    "    for root, dirs, files in os.walk( dest ):\n",
    "        for OneFileName in files :\n",
    "            if OneFileName.find( '.txt' ) == -1 :\n",
    "                continue\n",
    "            OneFullFileName = join( root, OneFileName )\n",
    "            AllFile.append(OneFullFileName)\n",
    " \n",
    "if __name__ == \"__main__\" :\n",
    "    main()"
   ]
  },
  {
   "cell_type": "code",
   "execution_count": 6,
   "metadata": {
    "collapsed": false
   },
   "outputs": [
    {
     "name": "stdout",
     "output_type": "stream",
     "text": [
      "h:/data\\data\\Track-26th Exp_20170421_LH_2 frames_Lightbox+2 White LED_25 30C_1min 4min 2min-Trial     5-Peltier 5-1-Subject 1.txt\n",
      "h:/data\\data\\Track-26th Exp_20170421_LH_2 frames_Lightbox+2 White LED_25 30C_1min 4min 2min-Trial     5-Peltier 5-2-Subject 1.txt\n",
      "h:/data\\data\\Track-26th Exp_20170421_LH_2 frames_Lightbox+2 White LED_25 30C_1min 4min 2min-Trial     5-Peltier 6-1-Subject 1.txt\n",
      "h:/data\\data\\Track-26th Exp_20170421_LH_2 frames_Lightbox+2 White LED_25 30C_1min 4min 2min-Trial     5-Peltier 6-2-Subject 1.txt\n",
      "h:/data\\data\\Track-26th Exp_20170421_LH_2 frames_Lightbox+2 White LED_25 30C_1min 4min 2min-Trial     5-Peltier 7-1-Subject 1.txt\n",
      "h:/data\\data\\Track-26th Exp_20170421_LH_2 frames_Lightbox+2 White LED_25 30C_1min 4min 2min-Trial     5-Peltier 7-2-Subject 1.txt\n",
      "h:/data\\data\\Track-26th Exp_20170421_LH_2 frames_Lightbox+2 White LED_25 30C_1min 4min 2min-Trial     5-Peltier 8-1-Subject 1.txt\n",
      "h:/data\\data\\Track-26th Exp_20170421_LH_2 frames_Lightbox+2 White LED_25 30C_1min 4min 2min-Trial     5-Peltier 8-2-Subject 1.txt\n",
      "h:/data\\data\\Track-26th Exp_20170421_LH_2 frames_Lightbox+2 White LED_25 30C_1min 4min 2min-Trial     6-Peltier 5-1-Subject 1.txt\n",
      "h:/data\\data\\Track-26th Exp_20170421_LH_2 frames_Lightbox+2 White LED_25 30C_1min 4min 2min-Trial     6-Peltier 5-2-Subject 1.txt\n",
      "h:/data\\data\\Track-26th Exp_20170421_LH_2 frames_Lightbox+2 White LED_25 30C_1min 4min 2min-Trial     6-Peltier 6-1-Subject 1.txt\n",
      "h:/data\\data\\Track-26th Exp_20170421_LH_2 frames_Lightbox+2 White LED_25 30C_1min 4min 2min-Trial     6-Peltier 6-2-Subject 1.txt\n",
      "h:/data\\data\\Track-26th Exp_20170421_LH_2 frames_Lightbox+2 White LED_25 30C_1min 4min 2min-Trial     6-Peltier 7-1-Subject 1.txt\n",
      "h:/data\\data\\Track-26th Exp_20170421_LH_2 frames_Lightbox+2 White LED_25 30C_1min 4min 2min-Trial     6-Peltier 7-2-Subject 1.txt\n",
      "h:/data\\data\\Track-26th Exp_20170421_LH_2 frames_Lightbox+2 White LED_25 30C_1min 4min 2min-Trial     6-Peltier 8-1-Subject 1.txt\n",
      "h:/data\\data\\Track-26th Exp_20170421_LH_2 frames_Lightbox+2 White LED_25 30C_1min 4min 2min-Trial     6-Peltier 8-2-Subject 1.txt\n",
      "h:/data\\data\\Track-26th Exp_20170421_LH_2 frames_Lightbox+2 White LED_25 30C_1min 4min 2min-Trial     7-Peltier 5-1-Subject 1.txt\n",
      "h:/data\\data\\Track-26th Exp_20170421_LH_2 frames_Lightbox+2 White LED_25 30C_1min 4min 2min-Trial     7-Peltier 5-2-Subject 1.txt\n",
      "h:/data\\data\\Track-26th Exp_20170421_LH_2 frames_Lightbox+2 White LED_25 30C_1min 4min 2min-Trial     7-Peltier 6-1-Subject 1.txt\n",
      "h:/data\\data\\Track-26th Exp_20170421_LH_2 frames_Lightbox+2 White LED_25 30C_1min 4min 2min-Trial     7-Peltier 6-2-Subject 1.txt\n",
      "h:/data\\data\\Track-26th Exp_20170421_LH_2 frames_Lightbox+2 White LED_25 30C_1min 4min 2min-Trial     7-Peltier 7-1-Subject 1.txt\n",
      "h:/data\\data\\Track-26th Exp_20170421_LH_2 frames_Lightbox+2 White LED_25 30C_1min 4min 2min-Trial     7-Peltier 7-2-Subject 1.txt\n",
      "h:/data\\data\\Track-26th Exp_20170421_LH_2 frames_Lightbox+2 White LED_25 30C_1min 4min 2min-Trial     7-Peltier 8-1-Subject 1.txt\n",
      "h:/data\\data\\Track-26th Exp_20170421_LH_2 frames_Lightbox+2 White LED_25 30C_1min 4min 2min-Trial     7-Peltier 8-2-Subject 1.txt\n",
      "h:/data\\data\\Track-26th Exp_20170421_LH_2 frames_Lightbox+2 White LED_25 30C_1min 4min 2min-Trial     8-Peltier 5-1-Subject 1.txt\n",
      "h:/data\\data\\Track-26th Exp_20170421_LH_2 frames_Lightbox+2 White LED_25 30C_1min 4min 2min-Trial     8-Peltier 5-2-Subject 1.txt\n",
      "h:/data\\data\\Track-26th Exp_20170421_LH_2 frames_Lightbox+2 White LED_25 30C_1min 4min 2min-Trial     8-Peltier 6-1-Subject 1.txt\n",
      "h:/data\\data\\Track-26th Exp_20170421_LH_2 frames_Lightbox+2 White LED_25 30C_1min 4min 2min-Trial     8-Peltier 6-2-Subject 1.txt\n",
      "h:/data\\data\\Track-26th Exp_20170421_LH_2 frames_Lightbox+2 White LED_25 30C_1min 4min 2min-Trial     8-Peltier 8-1-Subject 1.txt\n",
      "h:/data\\data\\Track-26th Exp_20170421_LH_2 frames_Lightbox+2 White LED_25 30C_1min 4min 2min-Trial     8-Peltier 8-2-Subject 1.txt\n",
      "h:/data\\py\\output.txt\n"
     ]
    }
   ],
   "source": [
    "for i in AllFile:\n",
    "    print(i)"
   ]
  },
  {
   "cell_type": "code",
   "execution_count": 19,
   "metadata": {
    "collapsed": false
   },
   "outputs": [],
   "source": [
    "import pandas as pd\n",
    "import numpy as np\n",
    "\n",
    "df2=pd.DataFrame({'A':1,'B':pd.Timestamp('20130102'),\n",
    "                   'C':pd.Series(1,index=list(range(4)),dtype='float32'),\n",
    "                  'D':np.array([3]*4,dtype='int32'),\n",
    "                   'E':pd.Categorical(['test','train','test','train']),\n",
    "                   'F':'fool'\n",
    "                   })"
   ]
  },
  {
   "cell_type": "code",
   "execution_count": 20,
   "metadata": {
    "collapsed": false
   },
   "outputs": [
    {
     "name": "stdout",
     "output_type": "stream",
     "text": [
      "   A          B    C  D      E     F\n",
      "0  1 2013-01-02  1.0  3   test  fool\n",
      "1  1 2013-01-02  1.0  3  train  fool\n",
      "2  1 2013-01-02  1.0  3   test  fool\n",
      "3  1 2013-01-02  1.0  3  train  fool\n"
     ]
    }
   ],
   "source": [
    "print(df2)"
   ]
  },
  {
   "cell_type": "code",
   "execution_count": 22,
   "metadata": {
    "collapsed": false
   },
   "outputs": [],
   "source": [
    "class People:\n",
    "    def __init__(self,age):\n",
    "        self.age = age\n",
    "    def pr(self):\n",
    "        print(self.age)\n",
    "peopleList  = []\n",
    "\n",
    "for i in range(10):\n",
    "    peopleList.append(People(\"i\"))"
   ]
  },
  {
   "cell_type": "code",
   "execution_count": 24,
   "metadata": {
    "collapsed": false
   },
   "outputs": [
    {
     "name": "stdout",
     "output_type": "stream",
     "text": [
      "i\n",
      "i\n",
      "i\n",
      "i\n",
      "i\n",
      "i\n",
      "i\n",
      "i\n",
      "i\n",
      "i\n"
     ]
    }
   ],
   "source": [
    "for i in peopleList:\n",
    "    i.pr()"
   ]
  },
  {
   "cell_type": "code",
   "execution_count": 8,
   "metadata": {
    "collapsed": false
   },
   "outputs": [
    {
     "name": "stdout",
     "output_type": "stream",
     "text": [
      "h:/data\\data\\Track-26th Exp_20170421_LH_2 frames_Lightbox+2 White LED_25 30C_1min 4min 2min-Trial     5-Peltier 5-1-Subject 1.txt\n"
     ]
    }
   ],
   "source": [
    "print(AllFile[0])"
   ]
  },
  {
   "cell_type": "code",
   "execution_count": 21,
   "metadata": {
    "collapsed": false
   },
   "outputs": [
    {
     "name": "stdout",
     "output_type": "stream",
     "text": [
      "\"Number of header lines:\";\"39\";\n",
      "\n"
     ]
    }
   ],
   "source": [
    "f = open(AllFile[-2],\"r\")\n",
    "d = f.readlines()\n",
    "print(d[0])"
   ]
  },
  {
   "cell_type": "code",
   "execution_count": 19,
   "metadata": {
    "collapsed": false
   },
   "outputs": [
    {
     "name": "stdout",
     "output_type": "stream",
     "text": [
      "37\n"
     ]
    }
   ],
   "source": [
    "headNumber = int(d[0][-5:-3])-2\n",
    "print(headNumber)"
   ]
  },
  {
   "cell_type": "code",
   "execution_count": 23,
   "metadata": {
    "collapsed": false
   },
   "outputs": [
    {
     "name": "stdout",
     "output_type": "stream",
     "text": [
      "0 37\n",
      "1 37\n",
      "2 37\n",
      "3 37\n",
      "4 37\n",
      "5 37\n",
      "6 37\n",
      "7 37\n",
      "8 37\n",
      "9 37\n",
      "10 37\n",
      "11 37\n",
      "12 37\n",
      "13 37\n",
      "14 37\n",
      "15 37\n",
      "16 37\n",
      "17 37\n",
      "18 37\n",
      "19 37\n",
      "20 37\n",
      "21 37\n",
      "22 37\n",
      "23 37\n",
      "24 37\n",
      "25 37\n",
      "26 37\n",
      "27 37\n",
      "28 37\n",
      "29 37\n",
      "workg\n"
     ]
    }
   ],
   "source": [
    "for index,i in enumerate(AllFile):\n",
    "    f=open(i,\"r\")\n",
    "    try:\n",
    "        d = f.readlines()\n",
    "        headNumber = int(d[0][-5:-3])-2\n",
    "        print(index,headNumber)\n",
    "    except:\n",
    "        print(\"workg\")\n",
    "        "
   ]
  },
  {
   "cell_type": "code",
   "execution_count": 1,
   "metadata": {
    "collapsed": true
   },
   "outputs": [],
   "source": [
    "class Test:\n",
    "    def __init__(self,index):\n",
    "        self.index = index\n",
    "    def pr(self):\n",
    "        print(self.index)\n",
    "\n"
   ]
  },
  {
   "cell_type": "code",
   "execution_count": 2,
   "metadata": {
    "collapsed": true
   },
   "outputs": [],
   "source": [
    "a = Test(1)"
   ]
  },
  {
   "cell_type": "code",
   "execution_count": 4,
   "metadata": {
    "collapsed": false
   },
   "outputs": [
    {
     "name": "stdout",
     "output_type": "stream",
     "text": [
      "1\n"
     ]
    }
   ],
   "source": [
    "a.pr()"
   ]
  },
  {
   "cell_type": "code",
   "execution_count": 5,
   "metadata": {
    "collapsed": true
   },
   "outputs": [],
   "source": [
    "Test_list = []\n",
    "for i in range(10):\n",
    "    Test_list.append(Test(i))\n",
    "    "
   ]
  },
  {
   "cell_type": "code",
   "execution_count": 6,
   "metadata": {
    "collapsed": false
   },
   "outputs": [
    {
     "data": {
      "text/plain": [
       "[<__main__.Test at 0x2100e5fba20>,\n",
       " <__main__.Test at 0x2100e5fb390>,\n",
       " <__main__.Test at 0x2100e5fb470>,\n",
       " <__main__.Test at 0x2100e61d588>,\n",
       " <__main__.Test at 0x2100e61d4a8>,\n",
       " <__main__.Test at 0x2100e61d0b8>,\n",
       " <__main__.Test at 0x2100e61d5c0>,\n",
       " <__main__.Test at 0x2100e61d080>,\n",
       " <__main__.Test at 0x2100e61d390>,\n",
       " <__main__.Test at 0x2100e61d518>]"
      ]
     },
     "execution_count": 6,
     "metadata": {},
     "output_type": "execute_result"
    }
   ],
   "source": [
    "Test_list"
   ]
  },
  {
   "cell_type": "code",
   "execution_count": 7,
   "metadata": {
    "collapsed": false
   },
   "outputs": [
    {
     "name": "stdout",
     "output_type": "stream",
     "text": [
      "0\n",
      "1\n",
      "2\n",
      "3\n",
      "4\n",
      "5\n",
      "6\n",
      "7\n",
      "8\n",
      "9\n"
     ]
    }
   ],
   "source": [
    "for i in Test_list:\n",
    "    i.pr()"
   ]
  },
  {
   "cell_type": "code",
   "execution_count": null,
   "metadata": {
    "collapsed": true
   },
   "outputs": [],
   "source": []
  }
 ],
 "metadata": {
  "kernelspec": {
   "display_name": "Python 3",
   "language": "python",
   "name": "python3"
  },
  "language_info": {
   "codemirror_mode": {
    "name": "ipython",
    "version": 3
   },
   "file_extension": ".py",
   "mimetype": "text/x-python",
   "name": "python",
   "nbconvert_exporter": "python",
   "pygments_lexer": "ipython3",
   "version": "3.6.0"
  }
 },
 "nbformat": 4,
 "nbformat_minor": 2
}
