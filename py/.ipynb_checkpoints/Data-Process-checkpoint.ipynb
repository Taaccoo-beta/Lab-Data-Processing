{
 "cells": [
  {
   "cell_type": "code",
   "execution_count": 10,
   "metadata": {
    "collapsed": false
   },
   "outputs": [],
   "source": [
    "import random\n",
    "import numpy as np\n",
    "import pandas as pd\n",
    "import matplotlib.pyplot as plt\n",
    "import re"
   ]
  },
  {
   "cell_type": "markdown",
   "metadata": {
    "collapsed": false
   },
   "source": [
    "## Data clear\n"
   ]
  },
  {
   "cell_type": "code",
   "execution_count": 13,
   "metadata": {
    "collapsed": true
   },
   "outputs": [],
   "source": [
    "#read all files\n",
    "\n",
    "import os\n",
    "from os.path import join\n",
    "\n",
    "AllFile = []\n",
    "def main() :\n",
    "    dest = \"h:\\data\\lab-data-processing\\data\"\n",
    "    for root, dirs, files in os.walk( dest ):\n",
    "        for OneFileName in files :\n",
    "            if OneFileName.find( '.txt' ) == -1 :\n",
    "                continue\n",
    "            OneFullFileName = join( root, OneFileName )\n",
    "            AllFile.append(OneFullFileName)\n",
    "        return AllFile"
   ]
  },
  {
   "cell_type": "code",
   "execution_count": 14,
   "metadata": {
    "collapsed": false
   },
   "outputs": [
    {
     "data": {
      "text/plain": [
       "30"
      ]
     },
     "execution_count": 14,
     "metadata": {},
     "output_type": "execute_result"
    }
   ],
   "source": [
    "file = main()\n",
    "len(file)"
   ]
  },
  {
   "cell_type": "markdown",
   "metadata": {},
   "source": [
    "## Detail information extract"
   ]
  },
  {
   "cell_type": "code",
   "execution_count": 15,
   "metadata": {
    "collapsed": false
   },
   "outputs": [],
   "source": [
    "class DataContentDecode:\n",
    "    \"\"\"Get the detail information\n",
    "    \n",
    "    This class help to decode the file and get the describe information\n",
    "    and data information.\n",
    "    \n",
    "    Attributes:\n",
    "        debug(int):             debug mode. 0 close and 1 open\n",
    "        \n",
    "        trailName(int):         the number of the trail \n",
    "        pelteirNumber(int):     the number of the peltier 0 - 8\n",
    "        subPelterNumber(int):   the index of the sub peltier 1 or 2\n",
    "        sex(int):               male 1   female 0\n",
    "        used(int):              used 1    unused 0\n",
    "        experimenter(int):      Hu 1   YZH 0\n",
    "        protocol(int):          A 1   B 0\n",
    "        rawData(pd.DataFrame):  data source\n",
    "    \n",
    "    \"\"\"\n",
    "    def __init__(self,fileName):\n",
    "        self.fileName = fileName      #the .txt file name\n",
    "        self.debug = 0\n",
    "    \n",
    "    def fileDecode(self):             #get the detail information\n",
    "        f = open(self.fileName,\"r\")\n",
    "        d = f.readlines()\n",
    "        headNumber = int(d[0][-5:-3])-2\n",
    "        \n",
    "        ''' get detail describe of data'''\n",
    "        for i in range(headNumber-2):\n",
    "            if(d[i].find(\"Trial name\")!=-1):\n",
    "                self.trailName = int(re.findall(r\"[0-9]+\",d[i])[0])\n",
    "                if(self.debug):\n",
    "                    print(\"trainName:\",int(re.findall(r\"[0-9]+\",d[i])[0]))\n",
    "            if(d[i].find(\"Arena name\")!=-1):\n",
    "                numFind = re.findall(r\"[0-9]+\",d[i])\n",
    "                self.peltierNumber = int(numFind[0])\n",
    "                self.subPeltierNumber = int(numFind[-1])\n",
    "                if(self.debug):\n",
    "                    print(\"peltierNumber:\",peltierNumber,\"subPeltierNumber:\",subPeltierNumber)\n",
    "            if(d[i].find(\"Sex\")!=-1):\n",
    "                if(d[i][7:-3]==\"male\"):\n",
    "                    self.sex = 1\n",
    "                else:\n",
    "                    self.sex = 0\n",
    "                if(self.debug):\n",
    "                    print(\"sex:\",sex)\n",
    "            if(d[i].find(\"Used\")!=-1):\n",
    "                if(d[i][8:-3]==\"Used\"):\n",
    "                    self.used = 1\n",
    "                else:\n",
    "                    self.used = 0               \n",
    "                if(self.debug):\n",
    "                    print(\"used:\",used)\n",
    "            if(d[i].find(\"Experimenter\")!=-1):\n",
    "                if(d[i][16:-3]==\"Hu\"):\n",
    "                    self.experimenter = 1\n",
    "                else:\n",
    "                    self.experimenter = 0\n",
    "                if(self.debug):\n",
    "                    print(\"experimenter:\",experimenter)\n",
    "            if(d[i].find(\"Protocol\")!=-1):\n",
    "                if(d[i][12:-3]==\"A\"):\n",
    "                    self.protocol = 1\n",
    "                else:\n",
    "                    self.protocol = 0\n",
    "                if(self.debug):\n",
    "                    print(\"protocol:\",protocol)\n",
    "        \n",
    "        ''' get raw data '''\n",
    "        head = [j for i,j in enumerate(list(d[int(d[0][-5:-3])-2].split('\"'))) if i%2 !=0 ]\n",
    "        if(self.debug):\n",
    "            print(head)\n",
    "        dataFrame = {i:[] for i in head}\n",
    "\n",
    "        for i in d[headNumber+2:]:\n",
    "            for index,data in zip(dataFrame,i.split(\";\")[:-1]):\n",
    "                if data=='\"-\"':\n",
    "                    data=np.nan\n",
    "                dataFrame[index].append(data)\n",
    "        self.rawData = pd.DataFrame(dataFrame)\n",
    "        if(self.debug):\n",
    "            print(self.rawData.head())\n",
    "        \n",
    "        \n",
    "        f.close()"
   ]
  },
  {
   "cell_type": "markdown",
   "metadata": {},
   "source": [
    "## Extract all file"
   ]
  },
  {
   "cell_type": "code",
   "execution_count": 16,
   "metadata": {
    "collapsed": true
   },
   "outputs": [],
   "source": [
    "class GetAllFile:\n",
    "    \"\"\"Get the all file \n",
    "    \n",
    "    This class help to decode all the file and get their detail information\n",
    "    \n",
    "    Attributes:\n",
    "        dataContentDecodeList:  list of DataContentDecode Oject\n",
    "    \n",
    "    \"\"\"\n",
    "    def __init__(self,fileList):\n",
    "        self.fileList = fileList\n",
    "        self.dataContentDecodeList = []\n",
    "    \n",
    "    def getDataContentDecodeList(self):\n",
    "        for i in self.fileList:\n",
    "            t = DataContentDecode(i)\n",
    "            t.fileDecode()\n",
    "            self.dataContentDecodeList.append(t)\n",
    "    "
   ]
  },
  {
   "cell_type": "code",
   "execution_count": 17,
   "metadata": {
    "collapsed": false
   },
   "outputs": [],
   "source": [
    "t  = GetAllFile(file)\n",
    "t.getDataContentDecodeList()"
   ]
  },
  {
   "cell_type": "code",
   "execution_count": 18,
   "metadata": {
    "collapsed": false
   },
   "outputs": [],
   "source": [
    "bb = t.dataContentDecodeList"
   ]
  },
  {
   "cell_type": "code",
   "execution_count": 19,
   "metadata": {
    "collapsed": false
   },
   "outputs": [
    {
     "name": "stdout",
     "output_type": "stream",
     "text": [
      "5 5 1 1\n",
      "5 5 1 1\n",
      "5 6 1 1\n",
      "5 6 1 1\n",
      "5 7 1 1\n",
      "5 7 1 1\n",
      "5 8 1 1\n",
      "5 8 1 1\n",
      "6 5 1 1\n",
      "6 5 1 1\n",
      "6 6 1 1\n",
      "6 6 1 1\n",
      "6 7 1 1\n",
      "6 7 1 1\n",
      "6 8 1 1\n",
      "6 8 1 1\n",
      "7 5 1 1\n",
      "7 5 1 1\n",
      "7 6 1 1\n",
      "7 6 1 1\n",
      "7 7 1 1\n",
      "7 7 1 1\n",
      "7 8 1 1\n",
      "7 8 1 1\n",
      "8 5 1 1\n",
      "8 5 1 1\n",
      "8 6 1 1\n",
      "8 6 1 1\n",
      "8 8 1 1\n",
      "8 8 1 1\n",
      "number of 5 : 30\n"
     ]
    }
   ],
   "source": [
    "j  = 0\n",
    "for i in bb:\n",
    "    if i.sex == 1:\n",
    "        j+=1\n",
    "    print(i.trailName,i.peltierNumber,i.sex,i.experimenter)\n",
    "print( \"number of 5 :\",j )"
   ]
  },
  {
   "cell_type": "markdown",
   "metadata": {},
   "source": [
    "## Data analysis"
   ]
  },
  {
   "cell_type": "code",
   "execution_count": 43,
   "metadata": {
    "collapsed": false
   },
   "outputs": [],
   "source": [
    "class DataAnalysis:\n",
    "    \"\"\"Data analysis \n",
    "    \n",
    "    This class help to analyze data\n",
    "    \n",
    "    Attributes:\n",
    "        dataContentDecodeList:  list of DataContentDecode Oject\n",
    "    \n",
    "    \"\"\"\n",
    "    def __init__(self):\n",
    "            t = GetAllFile(file)\n",
    "            t.getDataContentDecodeList()\n",
    "            self.extractedFile = t.dataContentDecodeList\n",
    "    \n",
    "   \n",
    "    \n",
    "    \n",
    "    \n",
    "    \n",
    "    #--------------------------- Filter module start ---------------------#\n",
    "        \n",
    "    \n",
    "    \"\"\"\n",
    "    trailName = -1   means all trail\n",
    "    trailName: list\n",
    "    \"\"\"\n",
    "    def dataFilterTrailName(self,trailName,rawData):\n",
    "        result = []\n",
    "        if trailName == -1:\n",
    "            return rawData\n",
    "        else:\n",
    "            for i in trailName:\n",
    "                for j in rawData:\n",
    "                    if(j.trailName == i):\n",
    "                        result.append(j)\n",
    "        return result\n",
    "    \n",
    "    \n",
    "    '''\n",
    "    Experimenter = -1 means all trail\n",
    "    1 : Hu          \n",
    "    0 : ZhengHong\n",
    "    '''\n",
    "    def dataFilterExperimenter(self,experimenter,rawData):\n",
    "        result = []\n",
    "        if experimenter == -1:\n",
    "            return rawData\n",
    "        else:\n",
    "            for j in rawData:\n",
    "                if(j.experimenter == experimenter):\n",
    "                    result.append(j)\n",
    "        return result\n",
    "            \n",
    "    \n",
    "    '''\n",
    "    1  :  Used\n",
    "    0  :  unUsed\n",
    "    '''\n",
    "    def dataFilterUsed(self,used,rawData):\n",
    "        result = []\n",
    "        for j in rawData:\n",
    "            if(j.used == used):\n",
    "                result.append(j)\n",
    "        return result\n",
    "    \n",
    "    \n",
    "    '''\n",
    "    peltierNumber(list):    [0-8]\n",
    "    '''\n",
    "    def dataFilterPeltierNumber(self,peltierNumber,rawData):\n",
    "        result = []\n",
    "        if peltierNumber == -1:\n",
    "            return rawData\n",
    "        else:\n",
    "            for i in peltierNumber:\n",
    "                for j in rawData:\n",
    "                    if(j.peltierNumber == i):\n",
    "                        result.append(j)\n",
    "        return result\n",
    "    \n",
    "    \n",
    "    '''\n",
    "    sex(int):  male 1,  female 0,   All -1\n",
    "    '''\n",
    "    def dataFilterSex(self,sex,rawData):\n",
    "        result = []\n",
    "        if sex == -1:\n",
    "            return rawData\n",
    "        else:\n",
    "            for j in rawData:\n",
    "                if(j.sex == sex):\n",
    "                    result.append(j)\n",
    "        return result\n",
    "        \n",
    "    \n",
    "    '''\n",
    "    protocol(int):  A  1,  B  0,  All  -1\n",
    "    '''\n",
    "    def dataFilterProtocol(self,protocol,rawData):\n",
    "        result = []\n",
    "        if(protocol == -1):\n",
    "            return rawData\n",
    "        \n",
    "        for j in rawData:\n",
    "            if(j.protocol == protocol):\n",
    "                result.append(j)\n",
    "        return result\n",
    "    \n",
    "    \n",
    "    #--------------------------- Filter module end  ---------------------#\n",
    "    '''\n",
    "    Get all trailName\n",
    "    '''\n",
    "    def trailNameObtainInData(self):\n",
    "        trailName = []\n",
    "        for i in self.extractedFile:\n",
    "            trailName.append(i.trailName)\n",
    "        \n",
    "        return set(trailName)\n",
    "    \n",
    "    \n",
    "    '''\n",
    "    choose data from the following parapeters\n",
    "    '''\n",
    "    def chooseData(self,trailName,peltierNumber,used,sex,experimenter,protocol):\n",
    "        result = self.dataFilterTrailName(trailName,self.extractedFile)\n",
    "        result = self.dataFilterExperimenter(experimenter,result)\n",
    "        result = self.\n",
    "        return result\n",
    "    \n",
    "    \n",
    "    \n",
    "    \n",
    "    '''\n",
    "    input you filter information\n",
    "    '''\n",
    "    def dataFilter(self):\n",
    "        rawData = self.extractedFile\n",
    "    \n",
    "        print(\"Please input filter information\")\n",
    "        print(\"Detail parameters\")\n",
    "        print(\"   trailName:     input [1,2,3]  or -1(all trail)\")\n",
    "        print(\"                  trailName choosed form\",self.trailNameObtainInData())\n",
    "        print(\"   peltierNumber: input [1,2,3] or -1(all peltierNumber)\")\n",
    "        print(\"   used:          used 1, unused 0\")\n",
    "        print(\"   sex:           male 1, female 0, All -1\")\n",
    "        print(\"   experimenter:  Hu 1,  YZH 0, All -1\")\n",
    "        print(\"   protocol:      A 1, B 0, All -1\")\n",
    "        print(\"\")\n",
    "        \n",
    "        print(\"Please input you choose\")\n",
    "        \n",
    "        trailName = eval(input(\"TrailName:\"))\n",
    "        while(True):\n",
    "            if(type(trailName)==type([]) or trailName == -1):\n",
    "                break;\n",
    "            else:\n",
    "                print(\"input wrong,please input again\")\n",
    "                trailName = input(\"TrainName:\")\n",
    "        \n",
    "        \n",
    "        \n",
    "                \n",
    "                \n",
    "        \n",
    "        peltierNumber = eval(input(\"PeltierNumber:\"))\n",
    "        while(True):\n",
    "            if(type(peltierNumber) == type([]) or peltierNumber == -1):\n",
    "                break;\n",
    "            else:\n",
    "                print(\"input wrong,please input again\")\n",
    "                peltierNumber = eval(input(\"PeltierNumber:\"))\n",
    "                \n",
    "        used = eval(input(\"Used:\"))\n",
    "        while(True):\n",
    "            if(used== 0 or used==1):\n",
    "                break;\n",
    "            else:\n",
    "                print(\"input wrong,please input again\")\n",
    "                used = eval(input(\"Used:\"))\n",
    "        \n",
    "        \n",
    "        sex = eval(input(\"Sex:\"))\n",
    "        while(True):\n",
    "            if(sex== 0 or sex==1 or sex==-1 ):\n",
    "                break;\n",
    "            else:\n",
    "                print(\"input wrong,please input again\")\n",
    "                sex = eval(input(\"Sex:\"))\n",
    "                \n",
    "                \n",
    "        experimenter = eval(input(\"Experimenter:\"))\n",
    "        while(True):\n",
    "            if(experimenter== 0 or experimenter==1 or experimenter==-1 ):\n",
    "                break;\n",
    "            else:\n",
    "                print(\"input wrong,please input again\")\n",
    "                experimenter = eval(input(\"Experimenter:\"))\n",
    "        \n",
    "        \n",
    "        \n",
    "        \n",
    "        protocol = eval(input(\"Protocol:\"))\n",
    "        while(True):\n",
    "            if(protocol== 0 or protocol==1 or protocol==-1 ):\n",
    "                break;\n",
    "            else:\n",
    "                print(\"input wrong,please input again\")\n",
    "                protocol = eval(input(\"Protocol:\"))\n",
    "    \n",
    "        return trailName,peltierNumber,used,sex,experimenter,protocol\n",
    "    \n",
    "                \n",
    "                \n",
    "        \n",
    "                \n",
    "            \n",
    "        \n",
    "    \n",
    "    \n",
    "    \n",
    "    \n",
    "    "
   ]
  },
  {
   "cell_type": "code",
   "execution_count": 44,
   "metadata": {
    "collapsed": false
   },
   "outputs": [],
   "source": [
    "#         trailName(int):         the number of the trail \n",
    "#         pelterNumber(int):      the number of the pelter 0 - 8\n",
    "#         subPelterNumber(int):   the index of the sub pelter 1 or 2\n",
    "#         sex(int):               male 1   female 0\n",
    "#         used(int):              used 1    unused 0\n",
    "#         experimenter(int):      Hu 1   YZH: 0\n",
    "#         protocol(int):          A 1   B 0\n",
    "#         rawData(pd.DataFrame):  data source"
   ]
  },
  {
   "cell_type": "code",
   "execution_count": 45,
   "metadata": {
    "collapsed": false
   },
   "outputs": [],
   "source": [
    "\n",
    "# t = DataAnalysis()\n",
    "# a = t.dataFilterTrailName(-1,t.extractedFile)\n",
    "\n",
    "t = DataAnalysis()\n",
    "a = t.dataFilterProtocol(-1,t.extractedFile)"
   ]
  },
  {
   "cell_type": "code",
   "execution_count": 48,
   "metadata": {
    "collapsed": false
   },
   "outputs": [
    {
     "data": {
      "text/plain": [
       "[<__main__.DataContentDecode at 0x17a09ae9cf8>,\n",
       " <__main__.DataContentDecode at 0x17a7e517198>,\n",
       " <__main__.DataContentDecode at 0x17a0dabacc0>,\n",
       " <__main__.DataContentDecode at 0x17a0df6bfd0>,\n",
       " <__main__.DataContentDecode at 0x17a1100f400>,\n",
       " <__main__.DataContentDecode at 0x17a114bdf98>,\n",
       " <__main__.DataContentDecode at 0x17a13428978>,\n",
       " <__main__.DataContentDecode at 0x17a1389bfd0>]"
      ]
     },
     "execution_count": 48,
     "metadata": {},
     "output_type": "execute_result"
    }
   ],
   "source": [
    "#t.dataFilter()\n",
    "t.dataFilterPeltierNumber([1,2,3,4,5],t.extractedFile)"
   ]
  },
  {
   "cell_type": "code",
   "execution_count": 42,
   "metadata": {
    "collapsed": false
   },
   "outputs": [
    {
     "ename": "AttributeError",
     "evalue": "'DataAnalysis' object has no attribute 'da'",
     "output_type": "error",
     "traceback": [
      "\u001b[0;31m---------------------------------------------------------------------------\u001b[0m",
      "\u001b[0;31mAttributeError\u001b[0m                            Traceback (most recent call last)",
      "\u001b[0;32m<ipython-input-42-b765f5b4f3cf>\u001b[0m in \u001b[0;36m<module>\u001b[0;34m()\u001b[0m\n\u001b[1;32m      1\u001b[0m \u001b[1;31m#trailName,peltierNumber,used,sex,experimenter,protocol\u001b[0m\u001b[1;33m\u001b[0m\u001b[1;33m\u001b[0m\u001b[0m\n\u001b[0;32m----> 2\u001b[0;31m \u001b[0mt\u001b[0m\u001b[1;33m.\u001b[0m\u001b[0mchooseData\u001b[0m\u001b[1;33m(\u001b[0m\u001b[1;33m[\u001b[0m\u001b[1;36m5\u001b[0m\u001b[1;33m]\u001b[0m\u001b[1;33m,\u001b[0m\u001b[1;33m[\u001b[0m\u001b[1;36m5\u001b[0m\u001b[1;33m,\u001b[0m\u001b[1;36m6\u001b[0m\u001b[1;33m,\u001b[0m\u001b[1;36m7\u001b[0m\u001b[1;33m,\u001b[0m\u001b[1;36m8\u001b[0m\u001b[1;33m]\u001b[0m\u001b[1;33m,\u001b[0m\u001b[1;36m1\u001b[0m\u001b[1;33m,\u001b[0m\u001b[1;36m1\u001b[0m\u001b[1;33m,\u001b[0m\u001b[1;36m1\u001b[0m\u001b[1;33m,\u001b[0m\u001b[1;33m-\u001b[0m\u001b[1;36m1\u001b[0m\u001b[1;33m)\u001b[0m\u001b[1;33m\u001b[0m\u001b[0m\n\u001b[0m",
      "\u001b[0;32m<ipython-input-38-b1e1c3cd0bda>\u001b[0m in \u001b[0;36mchooseData\u001b[0;34m(self, trailName, peltierNumber, used, sex, experimenter, protocol)\u001b[0m\n\u001b[1;32m    126\u001b[0m         \u001b[0mresult\u001b[0m \u001b[1;33m=\u001b[0m \u001b[0mself\u001b[0m\u001b[1;33m.\u001b[0m\u001b[0mdataFilterTrailName\u001b[0m\u001b[1;33m(\u001b[0m\u001b[0mtrailName\u001b[0m\u001b[1;33m,\u001b[0m\u001b[0mself\u001b[0m\u001b[1;33m.\u001b[0m\u001b[0mextractedFile\u001b[0m\u001b[1;33m)\u001b[0m\u001b[1;33m\u001b[0m\u001b[0m\n\u001b[1;32m    127\u001b[0m         \u001b[0mresult\u001b[0m \u001b[1;33m=\u001b[0m \u001b[0mself\u001b[0m\u001b[1;33m.\u001b[0m\u001b[0mdataFilterExperimenter\u001b[0m\u001b[1;33m(\u001b[0m\u001b[0mexperimenter\u001b[0m\u001b[1;33m,\u001b[0m\u001b[0mresult\u001b[0m\u001b[1;33m)\u001b[0m\u001b[1;33m\u001b[0m\u001b[0m\n\u001b[0;32m--> 128\u001b[0;31m         \u001b[0mresult\u001b[0m \u001b[1;33m=\u001b[0m \u001b[0mself\u001b[0m\u001b[1;33m.\u001b[0m\u001b[0mda\u001b[0m\u001b[1;33m\u001b[0m\u001b[0m\n\u001b[0m\u001b[1;32m    129\u001b[0m         \u001b[1;32mreturn\u001b[0m \u001b[0mresult\u001b[0m\u001b[1;33m\u001b[0m\u001b[0m\n\u001b[1;32m    130\u001b[0m \u001b[1;33m\u001b[0m\u001b[0m\n",
      "\u001b[0;31mAttributeError\u001b[0m: 'DataAnalysis' object has no attribute 'da'"
     ]
    }
   ],
   "source": [
    "#trailName,peltierNumber,used,sex,experimenter,protocol\n",
    "t.chooseData([5],[5,6,7,8],1,1,1,-1)"
   ]
  },
  {
   "cell_type": "code",
   "execution_count": null,
   "metadata": {
    "collapsed": false
   },
   "outputs": [],
   "source": [
    "def test():\n",
    "    a = 10\n",
    "    b = 20\n",
    "    c = [1,2,3]\n",
    "    return a,b,c"
   ]
  },
  {
   "cell_type": "code",
   "execution_count": null,
   "metadata": {
    "collapsed": true
   },
   "outputs": [],
   "source": [
    "a,b,c = test()"
   ]
  },
  {
   "cell_type": "code",
   "execution_count": null,
   "metadata": {
    "collapsed": false
   },
   "outputs": [],
   "source": []
  },
  {
   "cell_type": "code",
   "execution_count": null,
   "metadata": {
    "collapsed": true
   },
   "outputs": [],
   "source": [
    "def testPrint(a,b,c):\n",
    "    print(a,b,c)"
   ]
  },
  {
   "cell_type": "code",
   "execution_count": null,
   "metadata": {
    "collapsed": false
   },
   "outputs": [],
   "source": []
  },
  {
   "cell_type": "code",
   "execution_count": null,
   "metadata": {
    "collapsed": true
   },
   "outputs": [],
   "source": []
  }
 ],
 "metadata": {
  "kernelspec": {
   "display_name": "Python 3",
   "language": "python",
   "name": "python3"
  },
  "language_info": {
   "codemirror_mode": {
    "name": "ipython",
    "version": 3
   },
   "file_extension": ".py",
   "mimetype": "text/x-python",
   "name": "python",
   "nbconvert_exporter": "python",
   "pygments_lexer": "ipython3",
   "version": "3.6.0"
  }
 },
 "nbformat": 4,
 "nbformat_minor": 2
}
